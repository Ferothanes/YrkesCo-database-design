{
 "cells": [
  {
   "cell_type": "markdown",
   "metadata": {},
   "source": [
    "- En UTBILDARE kan vara en KONSULT\n",
    "- En KONSULT är alltid en UTBILDARE.\n",
    "- En KLASS hanteras av exakt en UTBILDNINGSLEDARE.\n",
    "- En UTBILDNINGSLEDARE kan ansvara för upp till tre KLASSER.\n",
    "- En KLASS tillhör exakt ett PROGRAM.\n",
    "- Ett PROGRAM består av tre KLASSER.\n",
    "- Ett PROGRAM består flera KURSER genom PROGRAMKURS.\n",
    "- En KURS kan vara del av ett eller flera PROGRAM genom PROGRAMKURS.\n",
    "- En ANLÄGGNING kan rymma flera PROGRAM.\n",
    "- Ett PROGRAM är kopplat till exakt en ANLÄGGNING. \n",
    "\n",
    "\n",
    "- PERSONUPPGIFTER kan tillhöra en och bara en STUDENT, UTBILDARE eller UTBILDNINGSLEDARE\n",
    "- En UTBILDARE kan vara en KONSULT, men det är inte ett krav.\n",
    "- En KONSULT är alltid en UTBILDARE.\n",
    "- En KONSULT arbetar för exakt ett KONSULTFÖRETAG.\n",
    "- Ett KONSULTFÖRETAG kan ha en eller flera KONSULTER.\n",
    "- Ett KONSULTFÖRETAG har exakt en ADRESS.\n",
    "- Men ADRESSEN  kan användas av flera KONSULTFÖRETAG.\n",
    "- En KURS kan vara del av ett eller flera PROGRAM genom PROGRAMKURS.\n"
   ]
  }
 ],
 "metadata": {
  "language_info": {
   "name": "python"
  }
 },
 "nbformat": 4,
 "nbformat_minor": 2
}
